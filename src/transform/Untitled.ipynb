{
 "cells": [
  {
   "cell_type": "code",
   "execution_count": 9,
   "id": "8b90ecb9-64fd-4bba-9551-616a9790bbc4",
   "metadata": {},
   "outputs": [],
   "source": [
    "from pyspark.sql import SparkSession\n",
    "from pyspark.sql.functions import col, lit, create_map, expr\n",
    "import itertools\n",
    "\n",
    "# -------------------- สร้าง SparkSession --------------------\n",
    "spark = (\n",
    "    SparkSession.builder\n",
    "    .appName(\"ReadExchangeRate\")\n",
    "    .config(\"spark.hadoop.fs.s3a.endpoint\", \"http://minio:9000\")\n",
    "    .config(\"spark.hadoop.fs.s3a.access.key\", \"minioadmin\")\n",
    "    .config(\"spark.hadoop.fs.s3a.secret.key\", \"minioadmin\")\n",
    "    .config(\"spark.hadoop.fs.s3a.path.style.access\", \"true\")\n",
    "    .config(\"spark.hadoop.fs.s3a.impl\", \"org.apache.hadoop.fs.s3a.S3AFileSystem\")\n",
    "    .config(\"spark.hadoop.fs.s3a.connection.ssl.enabled\", \"false\")\n",
    "    .getOrCreate()\n",
    ")\n",
    "\n",
    "# ------------------------ Load JSON ------------------------\n",
    "bucket_name = \"exchange.rate\"\n",
    "prefix = \"raw_json\"\n",
    "date = \"2025-06-09\"\n",
    "object_path = f\"s3a://{bucket_name}/{prefix}/exchange_rate_{date}.json\"\n",
    "\n",
    "df = spark.read.option(\"multiline\", \"true\").json(object_path)\n",
    "\n",
    "# ------------------ แปลง struct 'rates' เป็น map ------------------\n",
    "# เอาชื่อฟิลด์ทั้งหมดใน struct rates ออกมา\n",
    "rate_fields = df.select(\"rates\").schema[0].dataType.names\n",
    "\n",
    "kv_pairs = list(itertools.chain.from_iterable(\n",
    "    [(lit(f), col(\"rates\").getField(f)) for f in rate_fields]\n",
    "))\n",
    "\n",
    "df_with_map = df.select(\"date\", \"base\", create_map(*kv_pairs).alias(\"rates_map\"))\n",
    "\n",
    "# ------------------------ Explode map ------------------------\n",
    "exploded_df = df_with_map.select(\n",
    "    \"date\", \"base\", expr(\"explode(rates_map) as (currency, rate)\")\n",
    ")\n",
    "\n",
    "# ------------------------ Save to MinIO ------------------------\n",
    "output_path = f\"s3a://{bucket_name}/cleaned/exchange_rate_{date}.csv\"\n",
    "exploded_df.write.mode(\"overwrite\").option(\"header\", \"true\").csv(output_path)\n"
   ]
  },
  {
   "cell_type": "code",
   "execution_count": 1,
   "id": "e3fa7621-1b2d-481f-ae1d-2bd5fcea1bea",
   "metadata": {},
   "outputs": [
    {
     "name": "stdout",
     "output_type": "stream",
     "text": [
      "jovyan     750  4.0  3.9 9280040 318888 pts/2  Tl   15:34   0:11 /usr/lib/jvm/java-17-openjdk-amd64/bin/java -cp /usr/local/spark/conf/:/usr/local/spark/jars/* -Xmx1g -XX:+IgnoreUnrecognizedVMOptions --add-opens=java.base/java.lang=ALL-UNNAMED --add-opens=java.base/java.lang.invoke=ALL-UNNAMED --add-opens=java.base/java.lang.reflect=ALL-UNNAMED --add-opens=java.base/java.io=ALL-UNNAMED --add-opens=java.base/java.net=ALL-UNNAMED --add-opens=java.base/java.nio=ALL-UNNAMED --add-opens=java.base/java.util=ALL-UNNAMED --add-opens=java.base/java.util.concurrent=ALL-UNNAMED --add-opens=java.base/java.util.concurrent.atomic=ALL-UNNAMED --add-opens=java.base/sun.nio.ch=ALL-UNNAMED --add-opens=java.base/sun.nio.cs=ALL-UNNAMED --add-opens=java.base/sun.security.action=ALL-UNNAMED --add-opens=java.base/sun.util.calendar=ALL-UNNAMED --add-opens=java.security.jgss/sun.security.krb5=ALL-UNNAMED -Djdk.reflect.useDirectMethodHandle=false org.apache.spark.deploy.SparkSubmit --conf spark.hadoop.fs.s3a.impl=org.apache.hadoop.fs.s3a.S3AFileSystem --conf spark.hadoop.fs.s3a.endpoint=http://minio:9000 --conf spark.hadoop.fs.s3a.secret.key=minioadmin --conf spark.app.name=ExchangeRateCleaner --conf spark.hadoop.fs.s3a.access.key=minioadmin --conf spark.hadoop.fs.s3a.path.style.access=true --conf spark.jars=/opt/spark/jars/postgresql-42.7.3.jar --conf spark.hadoop.fs.s3a.connection.ssl.enabled=false pyspark-shell\n",
      "jovyan    1127  7.7  3.9 9213480 316756 pts/2  Sl+  15:36   0:10 /usr/lib/jvm/java-17-openjdk-amd64/bin/java -cp /usr/local/spark/conf/:/usr/local/spark/jars/* -Xmx1g -XX:+IgnoreUnrecognizedVMOptions --add-opens=java.base/java.lang=ALL-UNNAMED --add-opens=java.base/java.lang.invoke=ALL-UNNAMED --add-opens=java.base/java.lang.reflect=ALL-UNNAMED --add-opens=java.base/java.io=ALL-UNNAMED --add-opens=java.base/java.net=ALL-UNNAMED --add-opens=java.base/java.nio=ALL-UNNAMED --add-opens=java.base/java.util=ALL-UNNAMED --add-opens=java.base/java.util.concurrent=ALL-UNNAMED --add-opens=java.base/java.util.concurrent.atomic=ALL-UNNAMED --add-opens=java.base/sun.nio.ch=ALL-UNNAMED --add-opens=java.base/sun.nio.cs=ALL-UNNAMED --add-opens=java.base/sun.security.action=ALL-UNNAMED --add-opens=java.base/sun.util.calendar=ALL-UNNAMED --add-opens=java.security.jgss/sun.security.krb5=ALL-UNNAMED -Djdk.reflect.useDirectMethodHandle=false org.apache.spark.deploy.SparkSubmit --conf spark.hadoop.fs.s3a.impl=org.apache.hadoop.fs.s3a.S3AFileSystem --conf spark.hadoop.fs.s3a.endpoint=http://minio:9000 --conf spark.hadoop.fs.s3a.secret.key=minioadmin --conf spark.app.name=ExchangeRateCleaner --conf spark.hadoop.fs.s3a.access.key=minioadmin --conf spark.hadoop.fs.s3a.path.style.access=true --conf spark.jars=/opt/spark/jars/postgresql-42.7.3.jar --conf spark.hadoop.fs.s3a.connection.ssl.enabled=false pyspark-shell\n",
      "jovyan    1470  0.0  0.0   7368  3488 pts/3    Ss+  15:38   0:00 /bin/bash -c ps aux | grep spark\n",
      "jovyan    1473  0.0  0.0   6476  2236 pts/3    S+   15:38   0:00 grep spark\n"
     ]
    }
   ],
   "source": [
    "!ps aux | grep spark"
   ]
  },
  {
   "cell_type": "code",
   "execution_count": null,
   "id": "dd811388-a029-4bfc-8ff0-5fc94f5c1519",
   "metadata": {},
   "outputs": [],
   "source": []
  }
 ],
 "metadata": {
  "kernelspec": {
   "display_name": "Python 3 (ipykernel)",
   "language": "python",
   "name": "python3"
  },
  "language_info": {
   "codemirror_mode": {
    "name": "ipython",
    "version": 3
   },
   "file_extension": ".py",
   "mimetype": "text/x-python",
   "name": "python",
   "nbconvert_exporter": "python",
   "pygments_lexer": "ipython3",
   "version": "3.11.6"
  }
 },
 "nbformat": 4,
 "nbformat_minor": 5
}
